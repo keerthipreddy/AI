{
  "nbformat": 4,
  "nbformat_minor": 0,
  "metadata": {
    "colab": {
      "provenance": [],
      "authorship_tag": "ABX9TyNhrbogYUJbgkcKy0fgilD1",
      "include_colab_link": true
    },
    "kernelspec": {
      "name": "python3",
      "display_name": "Python 3"
    },
    "language_info": {
      "name": "python"
    }
  },
  "cells": [
    {
      "cell_type": "markdown",
      "metadata": {
        "id": "view-in-github",
        "colab_type": "text"
      },
      "source": [
        "<a href=\"https://colab.research.google.com/github/keerthipreddy/AI/blob/main/Pythonlab.ipynb\" target=\"_parent\"><img src=\"https://colab.research.google.com/assets/colab-badge.svg\" alt=\"Open In Colab\"/></a>"
      ]
    },
    {
      "cell_type": "markdown",
      "source": [
        "KEERTHI P REDDY\n",
        "1BM21CS090"
      ],
      "metadata": {
        "id": "orcnGndBqPAG"
      }
    },
    {
      "cell_type": "code",
      "execution_count": 22,
      "metadata": {
        "colab": {
          "base_uri": "https://localhost:8080/"
        },
        "id": "B7WMriNMaMuv",
        "outputId": "770e85e1-d0a3-4554-84b7-6adf38340aab"
      },
      "outputs": [
        {
          "output_type": "stream",
          "name": "stdout",
          "text": [
            "enter the age 15\n",
            "adolescent\n"
          ]
        }
      ],
      "source": [
        "#age\n",
        "age=int(input(\"enter the age \"))\n",
        "if age<=0:\n",
        "  print(\"invalid age!!\")\n",
        "elif age<=12:\n",
        "  print(\"children\")\n",
        "elif age<=19:\n",
        "  print(\"adolescent\")\n",
        "elif age<65:\n",
        "  print(\"adult\")\n",
        "else:\n",
        "  print(\"older adult\")\n"
      ]
    },
    {
      "cell_type": "code",
      "source": [
        "#multiplication table\n",
        "num=int(input(\"enter value \"))\n",
        "for i in range(1,11):\n",
        "  print(num,\"*\",i,\"=\",num*i)"
      ],
      "metadata": {
        "colab": {
          "base_uri": "https://localhost:8080/"
        },
        "id": "7UT-b-0nap2L",
        "outputId": "64453a5d-7b11-470c-a669-88ddb3f53cc5"
      },
      "execution_count": 6,
      "outputs": [
        {
          "output_type": "stream",
          "name": "stdout",
          "text": [
            "enter value 5\n",
            "5 * 1 = 5\n",
            "5 * 2 = 10\n",
            "5 * 3 = 15\n",
            "5 * 4 = 20\n",
            "5 * 5 = 25\n",
            "5 * 6 = 30\n",
            "5 * 7 = 35\n",
            "5 * 8 = 40\n",
            "5 * 9 = 45\n",
            "5 * 10 = 50\n"
          ]
        }
      ]
    },
    {
      "cell_type": "code",
      "source": [
        "#pattern\n",
        "num=int(input(\"enter value \"))\n",
        "for i in range(1,num+1):\n",
        "  for j in range(i):\n",
        "    print(i,end=\" \")\n",
        "  print()\n"
      ],
      "metadata": {
        "colab": {
          "base_uri": "https://localhost:8080/"
        },
        "id": "nSJSGfi4aqAy",
        "outputId": "b3980579-3b0e-4e21-8731-789543f962d8"
      },
      "execution_count": 11,
      "outputs": [
        {
          "output_type": "stream",
          "name": "stdout",
          "text": [
            "enter value 9\n",
            "1 \n",
            "2 2 \n",
            "3 3 3 \n",
            "4 4 4 4 \n",
            "5 5 5 5 5 \n",
            "6 6 6 6 6 6 \n",
            "7 7 7 7 7 7 7 \n",
            "8 8 8 8 8 8 8 8 \n",
            "9 9 9 9 9 9 9 9 9 \n"
          ]
        }
      ]
    },
    {
      "cell_type": "code",
      "source": [
        "#pattern\n",
        "num=int(input(\"enter value \"))\n",
        "for i in range(1,num+1):\n",
        "  for j in range(1,i+1):\n",
        "    print(j,end=\" \")\n",
        "  print()\n"
      ],
      "metadata": {
        "colab": {
          "base_uri": "https://localhost:8080/"
        },
        "id": "iQcrHc14aqIy",
        "outputId": "e4732962-f205-44d2-84f0-309ebba5e92d"
      },
      "execution_count": 16,
      "outputs": [
        {
          "output_type": "stream",
          "name": "stdout",
          "text": [
            "enter value 7\n",
            "1 \n",
            "1 2 \n",
            "1 2 3 \n",
            "1 2 3 4 \n",
            "1 2 3 4 5 \n",
            "1 2 3 4 5 6 \n",
            "1 2 3 4 5 6 7 \n"
          ]
        }
      ]
    },
    {
      "cell_type": "code",
      "source": [
        "#reverse integer\n",
        "num=int(input(\"enter a number \"))\n",
        "sum=0\n",
        "while num!=0:\n",
        "  rem=num%10\n",
        "  sum=sum*10+rem\n",
        "  num=num//10\n",
        "print(\"Reverse=\",sum)\n"
      ],
      "metadata": {
        "colab": {
          "base_uri": "https://localhost:8080/"
        },
        "id": "lA6L5pNOpKFX",
        "outputId": "ae578d23-1c65-4477-bccc-7f5713a50a3e"
      },
      "execution_count": 23,
      "outputs": [
        {
          "output_type": "stream",
          "name": "stdout",
          "text": [
            "enter a number 345\n",
            "Reverse= 543\n"
          ]
        }
      ]
    },
    {
      "cell_type": "code",
      "source": [
        "lis=[]\n",
        "l=int(input(\"enter the length of the array \"))\n",
        "print(\"enter numbers \")\n",
        "for i in range(l):\n",
        "  n=int(input())\n",
        "  lis.append(n)\n",
        "for i in range(l-1):\n",
        "  for j in range(l-i-1):\n",
        "    if(lis[j]>lis[j+1]):\n",
        "      lis[j],lis[j+1]=lis[j+1],lis[j]\n",
        "print(\"sorted list\",lis)"
      ],
      "metadata": {
        "colab": {
          "base_uri": "https://localhost:8080/"
        },
        "id": "Fz_FaskApKle",
        "outputId": "001f7a82-2db9-4528-c73b-089e61d8e3b6"
      },
      "execution_count": 21,
      "outputs": [
        {
          "output_type": "stream",
          "name": "stdout",
          "text": [
            "enter the length of the array 4\n",
            "enter numbers \n",
            "2\n",
            "8\n",
            "1\n",
            "4\n",
            "sorted list [1, 2, 4, 8]\n"
          ]
        }
      ]
    },
    {
      "cell_type": "code",
      "source": [],
      "metadata": {
        "id": "SkcnVnVhqJFX"
      },
      "execution_count": null,
      "outputs": []
    }
  ]
}