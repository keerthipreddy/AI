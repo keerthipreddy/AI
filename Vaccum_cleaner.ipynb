{
  "nbformat": 4,
  "nbformat_minor": 0,
  "metadata": {
    "colab": {
      "provenance": [],
      "authorship_tag": "ABX9TyNfE3K/gLgTh7Q93qB3WyOU",
      "include_colab_link": true
    },
    "kernelspec": {
      "name": "python3",
      "display_name": "Python 3"
    },
    "language_info": {
      "name": "python"
    }
  },
  "cells": [
    {
      "cell_type": "markdown",
      "metadata": {
        "id": "view-in-github",
        "colab_type": "text"
      },
      "source": [
        "<a href=\"https://colab.research.google.com/github/keerthipreddy/AI/blob/main/Vaccum_cleaner.ipynb\" target=\"_parent\"><img src=\"https://colab.research.google.com/assets/colab-badge.svg\" alt=\"Open In Colab\"/></a>"
      ]
    },
    {
      "cell_type": "code",
      "execution_count": 10,
      "metadata": {
        "colab": {
          "base_uri": "https://localhost:8080/"
        },
        "id": "HAuuWlCXtZ8j",
        "outputId": "585dc960-92fa-4b45-f6a5-041818b99656"
      },
      "outputs": [
        {
          "output_type": "stream",
          "name": "stdout",
          "text": [
            "Enter Location of Vacuum\ta\n",
            "Enter status of a0\n",
            "Enter status of other room\t1\n",
            "Initial Location Condition{'A': '0', 'B': '0'}\n",
            "Vacuum is placed in location B\n",
            "0\n",
            "Location B is already clean.\n",
            "Location A is Dirty.\n",
            "Moving LEFT to the Location A. \n",
            "COST for moving LEFT 1\n",
            "Cost for SUCK 2\n",
            "Location A has been Cleaned. \n",
            "GOAL STATE: \n",
            "{'A': '0', 'B': '0'}\n",
            "Performance Measurement: 2\n"
          ]
        }
      ],
      "source": [
        "def vacuum_world():\n",
        "    goal_state = {'A': '0', 'B': '0'}\n",
        "    cost = 0\n",
        "\n",
        "    location_input = input(\"Enter Location of Vacuum\\t\")\n",
        "    status_input = input(\"Enter status of \" + location_input)\n",
        "    status_input_complement = input(\"Enter status of other room\\t\")\n",
        "    print(\"Initial Location Condition\" + str(goal_state))\n",
        "\n",
        "    if location_input == 'A':\n",
        "        print(\"Vacuum is placed in Location A\\t\")\n",
        "        if status_input == '1':\n",
        "            print(\"Location A is Dirty.\")\n",
        "            goal_state['A'] = '0'\n",
        "            cost += 1\n",
        "            print(\"Cost for CLEANING A \" + str(cost))\n",
        "            print(\"Location A has been Cleaned.\")\n",
        "\n",
        "            if status_input_complement == '1':\n",
        "                # if B is Dirty\n",
        "                print(\"Location B is Dirty.\")\n",
        "                print(\"Moving right to the Location B. \")\n",
        "                cost += 1\n",
        "                print(\"COST for moving RIGHT\" + str(cost))\n",
        "                goal_state['B'] = '0'\n",
        "                cost += 1\n",
        "                print(\"COST for SUCK \" + str(cost))\n",
        "                print(\"Location B has been Cleaned. \")\n",
        "            else:\n",
        "                print(\"No action\" + str(cost))\n",
        "                print(\"Location B is already clean.\")\n",
        "\n",
        "        if status_input == '0':\n",
        "            print(\"Location A is already clean \")\n",
        "            if status_input_complement == '1':\n",
        "                print(\"Location B is Dirty.\")\n",
        "                print(\"Moving RIGHT to the Location B. \")\n",
        "                cost += 1\n",
        "                print(\"COST for moving RIGHT \" + str(cost))\n",
        "                goal_state['B'] = '0'\n",
        "                cost += 1\n",
        "                print(\"Cost for SUCK\" + str(cost))\n",
        "                print(\"Location B has been Cleaned. \")\n",
        "            else:\n",
        "                print(\"No action \" + str(cost))\n",
        "                print(cost)\n",
        "                print(\"Location B is already clean.\")\n",
        "\n",
        "    else:\n",
        "        print(\"Vacuum is placed in location B\")\n",
        "        # Location B is Dirty.\n",
        "        if status_input == '1':\n",
        "            print(\"Location B is Dirty.\")\n",
        "            goal_state['B'] = '0'\n",
        "            cost += 1\n",
        "            print(\"COST for CLEANING \" + str(cost))\n",
        "            print(\"Location B has been Cleaned.\")\n",
        "\n",
        "            if status_input_complement == '1':\n",
        "                # if A is Dirty\n",
        "                print(\"Location A is Dirty.\")\n",
        "                print(\"Moving LEFT to the Location A. \")\n",
        "                cost += 1\n",
        "                print(\"COST for moving LEFT\" + str(cost))\n",
        "                goal_state['A'] = '0'\n",
        "                cost += 1\n",
        "                print(\"COST for SUCK \" + str(cost))\n",
        "                print(\"Location A has been Cleaned.\")\n",
        "\n",
        "        else:\n",
        "            print(cost)\n",
        "            print(\"Location B is already clean.\")\n",
        "\n",
        "            if status_input_complement == '1':\n",
        "                print(\"Location A is Dirty.\")\n",
        "                print(\"Moving LEFT to the Location A. \")\n",
        "                cost += 1\n",
        "                print(\"COST for moving LEFT \" + str(cost))\n",
        "                goal_state['A'] = '0'\n",
        "                cost += 1\n",
        "                print(\"Cost for SUCK \" + str(cost))\n",
        "                print(\"Location A has been Cleaned. \")\n",
        "            else:\n",
        "                print(\"No action \" + str(cost))\n",
        "                print(\"Location A is already clean.\")\n",
        "\n",
        "    print(\"GOAL STATE: \")\n",
        "    print(goal_state)\n",
        "    print(\"Performance Measurement: \" + str(cost))\n",
        "\n",
        "\n",
        "vacuum_world()"
      ]
    }
  ]
}